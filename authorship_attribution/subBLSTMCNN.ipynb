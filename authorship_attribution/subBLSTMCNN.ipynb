{
 "cells": [
  {
   "cell_type": "code",
   "execution_count": 1,
   "metadata": {},
   "outputs": [],
   "source": [
    "from __future__ import print_function"
   ]
  },
  {
   "cell_type": "code",
   "execution_count": 2,
   "metadata": {},
   "outputs": [
    {
     "name": "stderr",
     "output_type": "stream",
     "text": [
      "2021-11-18 10:19:04.539634: I tensorflow/stream_executor/platform/default/dso_loader.cc:49] Successfully opened dynamic library libcudart.so.10.1\n"
     ]
    },
    {
     "name": "stdout",
     "output_type": "stream",
     "text": [
      "[name: \"/device:CPU:0\"\n",
      "device_type: \"CPU\"\n",
      "memory_limit: 268435456\n",
      "locality {\n",
      "}\n",
      "incarnation: 14505944016705443036\n",
      ", name: \"/device:GPU:0\"\n",
      "device_type: \"GPU\"\n",
      "memory_limit: 10545899776\n",
      "locality {\n",
      "  bus_id: 1\n",
      "  links {\n",
      "  }\n",
      "}\n",
      "incarnation: 3805931527036973301\n",
      "physical_device_desc: \"device: 0, name: GeForce RTX 2080 Ti, pci bus id: 0000:08:00.0, compute capability: 7.5\"\n",
      "]\n"
     ]
    },
    {
     "name": "stderr",
     "output_type": "stream",
     "text": [
      "2021-11-18 10:19:06.029172: I tensorflow/core/platform/cpu_feature_guard.cc:142] This TensorFlow binary is optimized with oneAPI Deep Neural Network Library (oneDNN) to use the following CPU instructions in performance-critical operations:  SSE4.1 SSE4.2 AVX AVX2 FMA\n",
      "To enable them in other operations, rebuild TensorFlow with the appropriate compiler flags.\n",
      "2021-11-18 10:19:06.031314: I tensorflow/stream_executor/platform/default/dso_loader.cc:49] Successfully opened dynamic library libcuda.so.1\n",
      "2021-11-18 10:19:06.070873: I tensorflow/stream_executor/cuda/cuda_gpu_executor.cc:941] successful NUMA node read from SysFS had negative value (-1), but there must be at least one NUMA node, so returning NUMA node zero\n",
      "2021-11-18 10:19:06.071462: I tensorflow/core/common_runtime/gpu/gpu_device.cc:1720] Found device 0 with properties: \n",
      "pciBusID: 0000:08:00.0 name: GeForce RTX 2080 Ti computeCapability: 7.5\n",
      "coreClock: 1.545GHz coreCount: 68 deviceMemorySize: 10.76GiB deviceMemoryBandwidth: 573.69GiB/s\n",
      "2021-11-18 10:19:06.071479: I tensorflow/stream_executor/platform/default/dso_loader.cc:49] Successfully opened dynamic library libcudart.so.10.1\n",
      "2021-11-18 10:19:06.093739: I tensorflow/stream_executor/platform/default/dso_loader.cc:49] Successfully opened dynamic library libcublas.so.10\n",
      "2021-11-18 10:19:06.093778: I tensorflow/stream_executor/platform/default/dso_loader.cc:49] Successfully opened dynamic library libcublasLt.so.10\n",
      "2021-11-18 10:19:06.095639: I tensorflow/stream_executor/platform/default/dso_loader.cc:49] Successfully opened dynamic library libcufft.so.10\n",
      "2021-11-18 10:19:06.096622: I tensorflow/stream_executor/platform/default/dso_loader.cc:49] Successfully opened dynamic library libcurand.so.10\n",
      "2021-11-18 10:19:06.119555: I tensorflow/stream_executor/platform/default/dso_loader.cc:49] Successfully opened dynamic library libcusolver.so.10\n",
      "2021-11-18 10:19:06.122990: I tensorflow/stream_executor/platform/default/dso_loader.cc:49] Successfully opened dynamic library libcusparse.so.10\n",
      "2021-11-18 10:19:06.162740: I tensorflow/stream_executor/platform/default/dso_loader.cc:49] Successfully opened dynamic library libcudnn.so.7\n",
      "2021-11-18 10:19:06.162892: I tensorflow/stream_executor/cuda/cuda_gpu_executor.cc:941] successful NUMA node read from SysFS had negative value (-1), but there must be at least one NUMA node, so returning NUMA node zero\n",
      "2021-11-18 10:19:06.163483: I tensorflow/stream_executor/cuda/cuda_gpu_executor.cc:941] successful NUMA node read from SysFS had negative value (-1), but there must be at least one NUMA node, so returning NUMA node zero\n",
      "2021-11-18 10:19:06.163966: I tensorflow/core/common_runtime/gpu/gpu_device.cc:1862] Adding visible gpu devices: 0\n",
      "2021-11-18 10:19:06.164222: I tensorflow/stream_executor/platform/default/dso_loader.cc:49] Successfully opened dynamic library libcudart.so.10.1\n",
      "2021-11-18 10:19:07.112232: I tensorflow/core/common_runtime/gpu/gpu_device.cc:1261] Device interconnect StreamExecutor with strength 1 edge matrix:\n",
      "2021-11-18 10:19:07.112266: I tensorflow/core/common_runtime/gpu/gpu_device.cc:1267]      0 \n",
      "2021-11-18 10:19:07.112272: I tensorflow/core/common_runtime/gpu/gpu_device.cc:1280] 0:   N \n",
      "2021-11-18 10:19:07.112767: I tensorflow/stream_executor/cuda/cuda_gpu_executor.cc:941] successful NUMA node read from SysFS had negative value (-1), but there must be at least one NUMA node, so returning NUMA node zero\n",
      "2021-11-18 10:19:07.113307: I tensorflow/stream_executor/cuda/cuda_gpu_executor.cc:941] successful NUMA node read from SysFS had negative value (-1), but there must be at least one NUMA node, so returning NUMA node zero\n",
      "2021-11-18 10:19:07.113818: I tensorflow/stream_executor/cuda/cuda_gpu_executor.cc:941] successful NUMA node read from SysFS had negative value (-1), but there must be at least one NUMA node, so returning NUMA node zero\n",
      "2021-11-18 10:19:07.114297: I tensorflow/core/common_runtime/gpu/gpu_device.cc:1406] Created TensorFlow device (/device:GPU:0 with 10057 MB memory) -> physical GPU (device: 0, name: GeForce RTX 2080 Ti, pci bus id: 0000:08:00.0, compute capability: 7.5)\n",
      "2021-11-18 10:19:07.115608: I tensorflow/compiler/jit/xla_gpu_device.cc:99] Not creating XLA devices, tf_xla_enable_xla_devices not set\n"
     ]
    }
   ],
   "source": [
    "import os\n",
    "from tensorflow.python.client import device_lib\n",
    "print(device_lib.list_local_devices())"
   ]
  },
  {
   "cell_type": "code",
   "execution_count": 3,
   "metadata": {},
   "outputs": [],
   "source": [
    "# Liberies\n",
    "import warnings\n",
    "warnings.filterwarnings('ignore')\n",
    "warnings.simplefilter('ignore')"
   ]
  },
  {
   "cell_type": "code",
   "execution_count": 4,
   "metadata": {},
   "outputs": [],
   "source": [
    "import re\n",
    "import sys\n",
    "import pandas as pd\n",
    "import numpy as np\n",
    "import string"
   ]
  },
  {
   "cell_type": "code",
   "execution_count": 5,
   "metadata": {},
   "outputs": [],
   "source": [
    "# statistics\n",
    "from scipy import sparse, stats"
   ]
  },
  {
   "cell_type": "code",
   "execution_count": 6,
   "metadata": {},
   "outputs": [],
   "source": [
    "# nltk\n",
    "import nltk\n",
    "from nltk.corpus import stopwords\n",
    "from nltk.stem import SnowballStemmer\n",
    "from bs4 import BeautifulSoup\n",
    "from nltk.stem.porter import PorterStemmer\n",
    "from nltk.stem import WordNetLemmatizer\n",
    "from sklearn.feature_selection import chi2\n",
    "import chardet\n",
    "from collections import Counter\n",
    "import itertools"
   ]
  },
  {
   "cell_type": "code",
   "execution_count": 7,
   "metadata": {},
   "outputs": [
    {
     "data": {
      "text/html": [
       "        <script type=\"text/javascript\">\n",
       "        window.PlotlyConfig = {MathJaxConfig: 'local'};\n",
       "        if (window.MathJax) {MathJax.Hub.Config({SVG: {font: \"STIX-Web\"}});}\n",
       "        if (typeof require !== 'undefined') {\n",
       "        require.undef(\"plotly\");\n",
       "        requirejs.config({\n",
       "            paths: {\n",
       "                'plotly': ['https://cdn.plot.ly/plotly-2.2.0.min']\n",
       "            }\n",
       "        });\n",
       "        require(['plotly'], function(Plotly) {\n",
       "            window._Plotly = Plotly;\n",
       "        });\n",
       "        }\n",
       "        </script>\n",
       "        "
      ]
     },
     "metadata": {},
     "output_type": "display_data"
    }
   ],
   "source": [
    "# Plot\n",
    "import seaborn as sns\n",
    "import plotly.offline as py\n",
    "import plotly.graph_objs as go\n",
    "py.init_notebook_mode(connected=True)\n",
    "import matplotlib.pyplot as plt\n",
    "# display plots inline\n",
    "%matplotlib inline"
   ]
  },
  {
   "cell_type": "code",
   "execution_count": 8,
   "metadata": {},
   "outputs": [],
   "source": [
    "sns.set_style(\"whitegrid\")\n",
    "import altair as alt"
   ]
  },
  {
   "cell_type": "code",
   "execution_count": 9,
   "metadata": {},
   "outputs": [
    {
     "ename": "ModuleNotFoundError",
     "evalue": "No module named 'smart_open'",
     "output_type": "error",
     "traceback": [
      "\u001b[0;31m---------------------------------------------------------------------------\u001b[0m",
      "\u001b[0;31mModuleNotFoundError\u001b[0m                       Traceback (most recent call last)",
      "\u001b[0;32m/tmp/ipykernel_768154/928052184.py\u001b[0m in \u001b[0;36m<module>\u001b[0;34m\u001b[0m\n\u001b[1;32m     19\u001b[0m \u001b[0;32mfrom\u001b[0m \u001b[0msklearn\u001b[0m\u001b[0;34m.\u001b[0m\u001b[0mlinear_model\u001b[0m \u001b[0;32mimport\u001b[0m \u001b[0mLogisticRegression\u001b[0m\u001b[0;34m\u001b[0m\u001b[0;34m\u001b[0m\u001b[0m\n\u001b[1;32m     20\u001b[0m \u001b[0;32mfrom\u001b[0m \u001b[0msklearn\u001b[0m\u001b[0;34m.\u001b[0m\u001b[0mensemble\u001b[0m \u001b[0;32mimport\u001b[0m \u001b[0mRandomForestClassifier\u001b[0m\u001b[0;34m\u001b[0m\u001b[0;34m\u001b[0m\u001b[0m\n\u001b[0;32m---> 21\u001b[0;31m \u001b[0;32mimport\u001b[0m \u001b[0mgensim\u001b[0m\u001b[0;34m\u001b[0m\u001b[0;34m\u001b[0m\u001b[0m\n\u001b[0m\u001b[1;32m     22\u001b[0m \u001b[0;32mimport\u001b[0m \u001b[0mscikitplot\u001b[0m\u001b[0;34m.\u001b[0m\u001b[0mplotters\u001b[0m \u001b[0;32mas\u001b[0m \u001b[0mskplt\u001b[0m\u001b[0;34m\u001b[0m\u001b[0;34m\u001b[0m\u001b[0m\n",
      "\u001b[0;32m~/anaconda3/lib/python3.8/site-packages/gensim/__init__.py\u001b[0m in \u001b[0;36m<module>\u001b[0;34m\u001b[0m\n\u001b[1;32m      9\u001b[0m \u001b[0;32mimport\u001b[0m \u001b[0mlogging\u001b[0m\u001b[0;34m\u001b[0m\u001b[0;34m\u001b[0m\u001b[0m\n\u001b[1;32m     10\u001b[0m \u001b[0;34m\u001b[0m\u001b[0m\n\u001b[0;32m---> 11\u001b[0;31m \u001b[0;32mfrom\u001b[0m \u001b[0mgensim\u001b[0m \u001b[0;32mimport\u001b[0m \u001b[0mparsing\u001b[0m\u001b[0;34m,\u001b[0m \u001b[0mcorpora\u001b[0m\u001b[0;34m,\u001b[0m \u001b[0mmatutils\u001b[0m\u001b[0;34m,\u001b[0m \u001b[0minterfaces\u001b[0m\u001b[0;34m,\u001b[0m \u001b[0mmodels\u001b[0m\u001b[0;34m,\u001b[0m \u001b[0msimilarities\u001b[0m\u001b[0;34m,\u001b[0m \u001b[0mutils\u001b[0m  \u001b[0;31m# noqa:F401\u001b[0m\u001b[0;34m\u001b[0m\u001b[0;34m\u001b[0m\u001b[0m\n\u001b[0m\u001b[1;32m     12\u001b[0m \u001b[0;34m\u001b[0m\u001b[0m\n\u001b[1;32m     13\u001b[0m \u001b[0;34m\u001b[0m\u001b[0m\n",
      "\u001b[0;32m~/anaconda3/lib/python3.8/site-packages/gensim/parsing/__init__.py\u001b[0m in \u001b[0;36m<module>\u001b[0;34m\u001b[0m\n\u001b[1;32m      2\u001b[0m \u001b[0;34m\u001b[0m\u001b[0m\n\u001b[1;32m      3\u001b[0m \u001b[0;32mfrom\u001b[0m \u001b[0;34m.\u001b[0m\u001b[0mporter\u001b[0m \u001b[0;32mimport\u001b[0m \u001b[0mPorterStemmer\u001b[0m  \u001b[0;31m# noqa:F401\u001b[0m\u001b[0;34m\u001b[0m\u001b[0;34m\u001b[0m\u001b[0m\n\u001b[0;32m----> 4\u001b[0;31m from .preprocessing import (remove_stopwords, strip_punctuation, strip_punctuation2,  # noqa:F401\n\u001b[0m\u001b[1;32m      5\u001b[0m                             \u001b[0mstrip_tags\u001b[0m\u001b[0;34m,\u001b[0m \u001b[0mstrip_short\u001b[0m\u001b[0;34m,\u001b[0m \u001b[0mstrip_numeric\u001b[0m\u001b[0;34m,\u001b[0m\u001b[0;34m\u001b[0m\u001b[0;34m\u001b[0m\u001b[0m\n\u001b[1;32m      6\u001b[0m                             \u001b[0mstrip_non_alphanum\u001b[0m\u001b[0;34m,\u001b[0m \u001b[0mstrip_multiple_whitespaces\u001b[0m\u001b[0;34m,\u001b[0m\u001b[0;34m\u001b[0m\u001b[0;34m\u001b[0m\u001b[0m\n",
      "\u001b[0;32m~/anaconda3/lib/python3.8/site-packages/gensim/parsing/preprocessing.py\u001b[0m in \u001b[0;36m<module>\u001b[0;34m\u001b[0m\n\u001b[1;32m     24\u001b[0m \u001b[0;32mimport\u001b[0m \u001b[0mglob\u001b[0m\u001b[0;34m\u001b[0m\u001b[0;34m\u001b[0m\u001b[0m\n\u001b[1;32m     25\u001b[0m \u001b[0;34m\u001b[0m\u001b[0m\n\u001b[0;32m---> 26\u001b[0;31m \u001b[0;32mfrom\u001b[0m \u001b[0mgensim\u001b[0m \u001b[0;32mimport\u001b[0m \u001b[0mutils\u001b[0m\u001b[0;34m\u001b[0m\u001b[0;34m\u001b[0m\u001b[0m\n\u001b[0m\u001b[1;32m     27\u001b[0m \u001b[0;32mfrom\u001b[0m \u001b[0mgensim\u001b[0m\u001b[0;34m.\u001b[0m\u001b[0mparsing\u001b[0m\u001b[0;34m.\u001b[0m\u001b[0mporter\u001b[0m \u001b[0;32mimport\u001b[0m \u001b[0mPorterStemmer\u001b[0m\u001b[0;34m\u001b[0m\u001b[0;34m\u001b[0m\u001b[0m\n\u001b[1;32m     28\u001b[0m \u001b[0;34m\u001b[0m\u001b[0m\n",
      "\u001b[0;32m~/anaconda3/lib/python3.8/site-packages/gensim/utils.py\u001b[0m in \u001b[0;36m<module>\u001b[0;34m\u001b[0m\n\u001b[1;32m     34\u001b[0m \u001b[0;32mimport\u001b[0m \u001b[0mnumpy\u001b[0m \u001b[0;32mas\u001b[0m \u001b[0mnp\u001b[0m\u001b[0;34m\u001b[0m\u001b[0;34m\u001b[0m\u001b[0m\n\u001b[1;32m     35\u001b[0m \u001b[0;32mimport\u001b[0m \u001b[0mscipy\u001b[0m\u001b[0;34m.\u001b[0m\u001b[0msparse\u001b[0m\u001b[0;34m\u001b[0m\u001b[0;34m\u001b[0m\u001b[0m\n\u001b[0;32m---> 36\u001b[0;31m \u001b[0;32mfrom\u001b[0m \u001b[0msmart_open\u001b[0m \u001b[0;32mimport\u001b[0m \u001b[0mopen\u001b[0m\u001b[0;34m\u001b[0m\u001b[0;34m\u001b[0m\u001b[0m\n\u001b[0m\u001b[1;32m     37\u001b[0m \u001b[0;34m\u001b[0m\u001b[0m\n\u001b[1;32m     38\u001b[0m \u001b[0;32mfrom\u001b[0m \u001b[0mgensim\u001b[0m \u001b[0;32mimport\u001b[0m \u001b[0m__version__\u001b[0m \u001b[0;32mas\u001b[0m \u001b[0mgensim_version\u001b[0m\u001b[0;34m\u001b[0m\u001b[0;34m\u001b[0m\u001b[0m\n",
      "\u001b[0;31mModuleNotFoundError\u001b[0m: No module named 'smart_open'"
     ]
    }
   ],
   "source": [
    "# scikit-sklearn\n",
    "from sklearn.model_selection import KFold, cross_val_score, train_test_split\n",
    "from sklearn.metrics import accuracy_score, roc_auc_score, log_loss, make_scorer, confusion_matrix\n",
    "from sklearn.model_selection import train_test_split, cross_val_predict, StratifiedKFold\n",
    "\n",
    "from sklearn.metrics import precision_recall_fscore_support as score\n",
    "\n",
    "from sklearn.preprocessing import LabelBinarizer, LabelEncoder, OneHotEncoder,MultiLabelBinarizer\n",
    "from sklearn.metrics import confusion_matrix\n",
    "\n",
    "from sklearn.metrics import classification_report, confusion_matrix\n",
    "\n",
    "from sklearn.linear_model import LogisticRegression\n",
    "from xgboost import XGBClassifier\n",
    "from sklearn.feature_extraction.text import CountVectorizer\n",
    "from sklearn.feature_extraction.text import TfidfVectorizer\n",
    "from sklearn.svm import SVC\n",
    "from sklearn.decomposition import TruncatedSVD\n",
    "from sklearn.linear_model import LogisticRegression\n",
    "from sklearn.ensemble import RandomForestClassifier\n",
    "import gensim\n",
    "import scikitplot.plotters as skplt"
   ]
  },
  {
   "cell_type": "code",
   "execution_count": 10,
   "metadata": {},
   "outputs": [
    {
     "ename": "AttributeError",
     "evalue": "module 'tensorflow.compat.v2.__internal__' has no attribute 'tf2'",
     "output_type": "error",
     "traceback": [
      "\u001b[0;31m---------------------------------------------------------------------------\u001b[0m",
      "\u001b[0;31mAttributeError\u001b[0m                            Traceback (most recent call last)",
      "\u001b[0;32m/tmp/ipykernel_768154/1384785600.py\u001b[0m in \u001b[0;36m<module>\u001b[0;34m\u001b[0m\n\u001b[1;32m      1\u001b[0m \u001b[0;31m# deep learning libraries\u001b[0m\u001b[0;34m\u001b[0m\u001b[0;34m\u001b[0m\u001b[0;34m\u001b[0m\u001b[0m\n\u001b[1;32m      2\u001b[0m \u001b[0;32mfrom\u001b[0m \u001b[0mtensorflow\u001b[0m \u001b[0;32mimport\u001b[0m \u001b[0mkeras\u001b[0m\u001b[0;34m\u001b[0m\u001b[0;34m\u001b[0m\u001b[0m\n\u001b[0;32m----> 3\u001b[0;31m \u001b[0;32mfrom\u001b[0m \u001b[0mkeras_self_attention\u001b[0m \u001b[0;32mimport\u001b[0m \u001b[0mSeqSelfAttention\u001b[0m\u001b[0;34m\u001b[0m\u001b[0;34m\u001b[0m\u001b[0m\n\u001b[0m\u001b[1;32m      4\u001b[0m \u001b[0;32mfrom\u001b[0m \u001b[0mtensorflow\u001b[0m\u001b[0;34m.\u001b[0m\u001b[0mkeras\u001b[0m\u001b[0;34m.\u001b[0m\u001b[0mpreprocessing\u001b[0m\u001b[0;34m.\u001b[0m\u001b[0mtext\u001b[0m \u001b[0;32mimport\u001b[0m \u001b[0mTokenizer\u001b[0m\u001b[0;34m,\u001b[0m \u001b[0mone_hot\u001b[0m\u001b[0;34m\u001b[0m\u001b[0;34m\u001b[0m\u001b[0m\n\u001b[1;32m      5\u001b[0m \u001b[0;32mfrom\u001b[0m \u001b[0mtensorflow\u001b[0m\u001b[0;34m.\u001b[0m\u001b[0mkeras\u001b[0m\u001b[0;34m.\u001b[0m\u001b[0mpreprocessing\u001b[0m\u001b[0;34m.\u001b[0m\u001b[0msequence\u001b[0m \u001b[0;32mimport\u001b[0m \u001b[0mpad_sequences\u001b[0m\u001b[0;34m\u001b[0m\u001b[0;34m\u001b[0m\u001b[0m\n",
      "\u001b[0;32m~/anaconda3/lib/python3.8/site-packages/keras_self_attention/__init__.py\u001b[0m in \u001b[0;36m<module>\u001b[0;34m\u001b[0m\n\u001b[0;32m----> 1\u001b[0;31m \u001b[0;32mfrom\u001b[0m \u001b[0;34m.\u001b[0m\u001b[0mseq_self_attention\u001b[0m \u001b[0;32mimport\u001b[0m \u001b[0mSeqSelfAttention\u001b[0m\u001b[0;34m\u001b[0m\u001b[0;34m\u001b[0m\u001b[0m\n\u001b[0m\u001b[1;32m      2\u001b[0m \u001b[0;32mfrom\u001b[0m \u001b[0;34m.\u001b[0m\u001b[0mseq_weighted_attention\u001b[0m \u001b[0;32mimport\u001b[0m \u001b[0mSeqWeightedAttention\u001b[0m\u001b[0;34m\u001b[0m\u001b[0;34m\u001b[0m\u001b[0m\n\u001b[1;32m      3\u001b[0m \u001b[0;32mfrom\u001b[0m \u001b[0;34m.\u001b[0m\u001b[0mscaled_dot_attention\u001b[0m \u001b[0;32mimport\u001b[0m \u001b[0mScaledDotProductAttention\u001b[0m\u001b[0;34m\u001b[0m\u001b[0;34m\u001b[0m\u001b[0m\n\u001b[1;32m      4\u001b[0m \u001b[0;32mfrom\u001b[0m \u001b[0;34m.\u001b[0m\u001b[0mreal_former\u001b[0m \u001b[0;32mimport\u001b[0m \u001b[0mResidualScaledDotProductAttention\u001b[0m\u001b[0;34m\u001b[0m\u001b[0;34m\u001b[0m\u001b[0m\n\u001b[1;32m      5\u001b[0m \u001b[0;34m\u001b[0m\u001b[0m\n",
      "\u001b[0;32m~/anaconda3/lib/python3.8/site-packages/keras_self_attention/seq_self_attention.py\u001b[0m in \u001b[0;36m<module>\u001b[0;34m\u001b[0m\n\u001b[0;32m----> 1\u001b[0;31m \u001b[0;32mfrom\u001b[0m \u001b[0;34m.\u001b[0m\u001b[0mbackend\u001b[0m \u001b[0;32mimport\u001b[0m \u001b[0mkeras\u001b[0m\u001b[0;34m\u001b[0m\u001b[0;34m\u001b[0m\u001b[0m\n\u001b[0m\u001b[1;32m      2\u001b[0m \u001b[0;32mfrom\u001b[0m \u001b[0;34m.\u001b[0m\u001b[0mbackend\u001b[0m \u001b[0;32mimport\u001b[0m \u001b[0mbackend\u001b[0m \u001b[0;32mas\u001b[0m \u001b[0mK\u001b[0m\u001b[0;34m\u001b[0m\u001b[0;34m\u001b[0m\u001b[0m\n\u001b[1;32m      3\u001b[0m \u001b[0;34m\u001b[0m\u001b[0m\n\u001b[1;32m      4\u001b[0m \u001b[0;34m\u001b[0m\u001b[0m\n\u001b[1;32m      5\u001b[0m \u001b[0;32mclass\u001b[0m \u001b[0mSeqSelfAttention\u001b[0m\u001b[0;34m(\u001b[0m\u001b[0mkeras\u001b[0m\u001b[0;34m.\u001b[0m\u001b[0mlayers\u001b[0m\u001b[0;34m.\u001b[0m\u001b[0mLayer\u001b[0m\u001b[0;34m)\u001b[0m\u001b[0;34m:\u001b[0m\u001b[0;34m\u001b[0m\u001b[0;34m\u001b[0m\u001b[0m\n",
      "\u001b[0;32m~/anaconda3/lib/python3.8/site-packages/keras_self_attention/backend.py\u001b[0m in \u001b[0;36m<module>\u001b[0;34m\u001b[0m\n\u001b[1;32m     14\u001b[0m     \u001b[0mkeras\u001b[0m \u001b[0;34m=\u001b[0m \u001b[0mtf\u001b[0m\u001b[0;34m.\u001b[0m\u001b[0mkeras\u001b[0m\u001b[0;34m\u001b[0m\u001b[0;34m\u001b[0m\u001b[0m\n\u001b[1;32m     15\u001b[0m \u001b[0;32melse\u001b[0m\u001b[0;34m:\u001b[0m\u001b[0;34m\u001b[0m\u001b[0;34m\u001b[0m\u001b[0m\n\u001b[0;32m---> 16\u001b[0;31m     \u001b[0;32mimport\u001b[0m \u001b[0mkeras\u001b[0m\u001b[0;34m\u001b[0m\u001b[0;34m\u001b[0m\u001b[0m\n\u001b[0m\u001b[1;32m     17\u001b[0m \u001b[0;34m\u001b[0m\u001b[0m\n\u001b[1;32m     18\u001b[0m \u001b[0mutils\u001b[0m \u001b[0;34m=\u001b[0m \u001b[0mkeras\u001b[0m\u001b[0;34m.\u001b[0m\u001b[0mutils\u001b[0m\u001b[0;34m\u001b[0m\u001b[0;34m\u001b[0m\u001b[0m\n",
      "\u001b[0;32m~/anaconda3/lib/python3.8/site-packages/keras/__init__.py\u001b[0m in \u001b[0;36m<module>\u001b[0;34m\u001b[0m\n\u001b[1;32m     18\u001b[0m \u001b[0;32mfrom\u001b[0m \u001b[0;34m.\u001b[0m \u001b[0;32mimport\u001b[0m \u001b[0mcallbacks\u001b[0m\u001b[0;34m\u001b[0m\u001b[0;34m\u001b[0m\u001b[0m\n\u001b[1;32m     19\u001b[0m \u001b[0;32mfrom\u001b[0m \u001b[0;34m.\u001b[0m \u001b[0;32mimport\u001b[0m \u001b[0mconstraints\u001b[0m\u001b[0;34m\u001b[0m\u001b[0;34m\u001b[0m\u001b[0m\n\u001b[0;32m---> 20\u001b[0;31m \u001b[0;32mfrom\u001b[0m \u001b[0;34m.\u001b[0m \u001b[0;32mimport\u001b[0m \u001b[0minitializers\u001b[0m\u001b[0;34m\u001b[0m\u001b[0;34m\u001b[0m\u001b[0m\n\u001b[0m\u001b[1;32m     21\u001b[0m \u001b[0;32mfrom\u001b[0m \u001b[0;34m.\u001b[0m \u001b[0;32mimport\u001b[0m \u001b[0mmetrics\u001b[0m\u001b[0;34m\u001b[0m\u001b[0;34m\u001b[0m\u001b[0m\n\u001b[1;32m     22\u001b[0m \u001b[0;32mfrom\u001b[0m \u001b[0;34m.\u001b[0m \u001b[0;32mimport\u001b[0m \u001b[0mmodels\u001b[0m\u001b[0;34m\u001b[0m\u001b[0;34m\u001b[0m\u001b[0m\n",
      "\u001b[0;32m~/anaconda3/lib/python3.8/site-packages/keras/initializers/__init__.py\u001b[0m in \u001b[0;36m<module>\u001b[0;34m\u001b[0m\n\u001b[1;32m    122\u001b[0m \u001b[0;31m# from ALL_OBJECTS. We make no guarantees as to whether these objects will\u001b[0m\u001b[0;34m\u001b[0m\u001b[0;34m\u001b[0m\u001b[0;34m\u001b[0m\u001b[0m\n\u001b[1;32m    123\u001b[0m \u001b[0;31m# using their correct version.\u001b[0m\u001b[0;34m\u001b[0m\u001b[0;34m\u001b[0m\u001b[0;34m\u001b[0m\u001b[0m\n\u001b[0;32m--> 124\u001b[0;31m \u001b[0mpopulate_deserializable_objects\u001b[0m\u001b[0;34m(\u001b[0m\u001b[0;34m)\u001b[0m\u001b[0;34m\u001b[0m\u001b[0;34m\u001b[0m\u001b[0m\n\u001b[0m\u001b[1;32m    125\u001b[0m \u001b[0mglobals\u001b[0m\u001b[0;34m(\u001b[0m\u001b[0;34m)\u001b[0m\u001b[0;34m.\u001b[0m\u001b[0mupdate\u001b[0m\u001b[0;34m(\u001b[0m\u001b[0mLOCAL\u001b[0m\u001b[0;34m.\u001b[0m\u001b[0mALL_OBJECTS\u001b[0m\u001b[0;34m)\u001b[0m\u001b[0;34m\u001b[0m\u001b[0;34m\u001b[0m\u001b[0m\n\u001b[1;32m    126\u001b[0m \u001b[0;34m\u001b[0m\u001b[0m\n",
      "\u001b[0;32m~/anaconda3/lib/python3.8/site-packages/keras/initializers/__init__.py\u001b[0m in \u001b[0;36mpopulate_deserializable_objects\u001b[0;34m()\u001b[0m\n\u001b[1;32m     47\u001b[0m \u001b[0;34m\u001b[0m\u001b[0m\n\u001b[1;32m     48\u001b[0m   \u001b[0mLOCAL\u001b[0m\u001b[0;34m.\u001b[0m\u001b[0mALL_OBJECTS\u001b[0m \u001b[0;34m=\u001b[0m \u001b[0;34m{\u001b[0m\u001b[0;34m}\u001b[0m\u001b[0;34m\u001b[0m\u001b[0;34m\u001b[0m\u001b[0m\n\u001b[0;32m---> 49\u001b[0;31m   \u001b[0mLOCAL\u001b[0m\u001b[0;34m.\u001b[0m\u001b[0mGENERATED_WITH_V2\u001b[0m \u001b[0;34m=\u001b[0m \u001b[0mtf\u001b[0m\u001b[0;34m.\u001b[0m\u001b[0m__internal__\u001b[0m\u001b[0;34m.\u001b[0m\u001b[0mtf2\u001b[0m\u001b[0;34m.\u001b[0m\u001b[0menabled\u001b[0m\u001b[0;34m(\u001b[0m\u001b[0;34m)\u001b[0m\u001b[0;34m\u001b[0m\u001b[0;34m\u001b[0m\u001b[0m\n\u001b[0m\u001b[1;32m     50\u001b[0m \u001b[0;34m\u001b[0m\u001b[0m\n\u001b[1;32m     51\u001b[0m   \u001b[0;31m# Compatibility aliases (need to exist in both V1 and V2).\u001b[0m\u001b[0;34m\u001b[0m\u001b[0;34m\u001b[0m\u001b[0;34m\u001b[0m\u001b[0m\n",
      "\u001b[0;31mAttributeError\u001b[0m: module 'tensorflow.compat.v2.__internal__' has no attribute 'tf2'"
     ]
    }
   ],
   "source": [
    "# deep learning libraries\n",
    "from tensorflow import keras\n",
    "from keras_self_attention import SeqSelfAttention\n",
    "from tensorflow.keras.preprocessing.text import Tokenizer, one_hot\n",
    "from tensorflow.keras.preprocessing.sequence import pad_sequences\n",
    "from tensorflow.keras.callbacks import EarlyStopping,ModelCheckpoint, Callback,CSVLogger\n",
    "from tensorflow.keras.layers import *\n",
    "from tensorflow.keras.models import * \n",
    "from tensorflow.keras.preprocessing import text, sequence\n",
    "from tensorflow.keras.optimizers import Adam\n",
    "from tensorflow.keras import utils\n",
    "from tensorflow.keras import regularizers\n",
    "from tensorflow.keras.callbacks import EarlyStopping,ModelCheckpoint, Callback,CSVLogger"
   ]
  },
  {
   "cell_type": "code",
   "execution_count": null,
   "metadata": {},
   "outputs": [],
   "source": [
    "# Load dataset\n",
    "source_dir ='/home/abbey/abbey/dataset/authorship/movie/'"
   ]
  },
  {
   "cell_type": "code",
   "execution_count": null,
   "metadata": {},
   "outputs": [],
   "source": [
    "data = pd.read_csv(source_dir + 'Newcleanimbd62.csv', encoding=\"utf-8\")\n",
    "data =  data.sample(len(data), random_state=1)\n",
    "data = data[data['content'].isnull()==False] \n",
    "data.dropna(subset=['content'], inplace=True)\n",
    "data.dropna(subset=['userId'], inplace=True)\n",
    "data.head(3)"
   ]
  },
  {
   "cell_type": "code",
   "execution_count": null,
   "metadata": {},
   "outputs": [],
   "source": [
    "len(data.userId.unique()), len(data.content.unique())"
   ]
  },
  {
   "cell_type": "code",
   "execution_count": 11,
   "metadata": {},
   "outputs": [],
   "source": [
    "import time"
   ]
  },
  {
   "cell_type": "code",
   "execution_count": 12,
   "metadata": {},
   "outputs": [],
   "source": [
    "from collections import Counter\n",
    "\n",
    "try:\n",
    "    from typing import Dict, Iterable, Callable, List, Any, Iterator\n",
    "except ImportError:\n",
    "    pass\n",
    "\n",
    "from nltk.tokenize import wordpunct_tokenize\n",
    "from tqdm import tqdm\n",
    "import toolz\n",
    "import json\n",
    "\n",
    "DEFAULT_EOW = '__eow'\n",
    "DEFAULT_SOW = '__sow'\n",
    "DEFAULT_UNK = '__unk'\n",
    "DEFAULT_PAD = '__pad'\n",
    "\n",
    "class Encoder:\n",
    "    \"\"\" Encodes white-space separated text using byte-pair encoding.  See https://arxiv.org/abs/1508.07909 for details.\n",
    "    \"\"\"\n",
    "\n",
    "    def __init__(self, vocab_size=8192, pct_bpe=0.2, word_tokenizer=None,\n",
    "                 silent=True, ngram_min=2, ngram_max=2, required_tokens=None, strict=False, \n",
    "                 EOW=DEFAULT_EOW, SOW=DEFAULT_SOW, UNK=DEFAULT_UNK, PAD=DEFAULT_PAD):\n",
    "        if vocab_size < 1:\n",
    "            raise ValueError('vocab size must be greater than 0.')\n",
    "\n",
    "        self.EOW = EOW\n",
    "        self.SOW = SOW\n",
    "        self.eow_len = len(EOW)\n",
    "        self.sow_len = len(SOW)\n",
    "        self.UNK = UNK\n",
    "        self.PAD = PAD\n",
    "        self.required_tokens = list(set(required_tokens or []).union({self.UNK, self.PAD}))\n",
    "        self.vocab_size = vocab_size\n",
    "        self.pct_bpe = pct_bpe\n",
    "        self.word_vocab_size = max([int(vocab_size * (1 - pct_bpe)), len(self.required_tokens or [])])\n",
    "        self.bpe_vocab_size = vocab_size - self.word_vocab_size\n",
    "        self.word_tokenizer = word_tokenizer if word_tokenizer is not None else wordpunct_tokenize\n",
    "        self.custom_tokenizer = word_tokenizer is not None\n",
    "        self.word_vocab = {}  # type: Dict[str, int]\n",
    "        self.bpe_vocab = {}  # type: Dict[str, int]\n",
    "        self.inverse_word_vocab = {}  # type: Dict[int, str]\n",
    "        self.inverse_bpe_vocab = {}  # type: Dict[int, str]\n",
    "        self._progress_bar = iter if silent else tqdm\n",
    "        self.ngram_min = ngram_min\n",
    "        self.ngram_max = ngram_max\n",
    "        self.strict = strict\n",
    "\n",
    "    def mute(self):\n",
    "        \"\"\" Turn on silent mode \"\"\"\n",
    "        self._progress_bar = iter\n",
    "\n",
    "    def unmute(self):\n",
    "        \"\"\" Turn off silent mode \"\"\"\n",
    "        self._progress_bar = tqdm\n",
    "\n",
    "    def byte_pair_counts(self, words):\n",
    "        # type: (Encoder, Iterable[str]) -> Iterable[Counter]\n",
    "        \"\"\" Counts space separated token character pairs:\n",
    "            [('T h i s </w>', 4}] -> {'Th': 4, 'hi': 4, 'is': 4}\n",
    "        \"\"\"\n",
    "        for token, count in self._progress_bar(self.count_tokens(words).items()):\n",
    "            bp_counts = Counter()  # type: Counter\n",
    "            for ngram in token.split(' '):\n",
    "                bp_counts[ngram] += count\n",
    "            for ngram_size in range(self.ngram_min, min([self.ngram_max, len(token)]) + 1):\n",
    "                ngrams = [''.join(ngram) for ngram in toolz.sliding_window(ngram_size, token.split(' '))]\n",
    "\n",
    "                for ngram in ngrams:\n",
    "                    bp_counts[''.join(ngram)] += count\n",
    "\n",
    "            yield bp_counts\n",
    "\n",
    "    def count_tokens(self, words):\n",
    "        # type: (Encoder, Iterable[str]) -> Dict[str, int]\n",
    "        \"\"\" Count tokens into a BPE vocab \"\"\"\n",
    "        token_counts = Counter(self._progress_bar(words))\n",
    "        return {' '.join(token): count for token, count in token_counts.items()}\n",
    "\n",
    "    def learn_word_vocab(self, sentences):\n",
    "        # type: (Encoder, Iterable[str]) -> Dict[str, int]\n",
    "        \"\"\" Build vocab from self.word_vocab_size most common tokens in provided sentences \"\"\"\n",
    "        word_counts = Counter(word for word in toolz.concat(map(self.word_tokenizer, sentences)))\n",
    "        for token in set(self.required_tokens or []):\n",
    "            word_counts[token] = int(2**63)\n",
    "        sorted_word_counts = sorted(word_counts.items(), key=lambda p: -p[1])\n",
    "        return {word: idx for idx, (word, count) in enumerate(sorted_word_counts[:self.word_vocab_size])}\n",
    "\n",
    "    def learn_bpe_vocab(self, words):\n",
    "        # type: (Encoder, Iterable[str]) -> Dict[str, int]\n",
    "        \"\"\" Learns a vocab of byte pair encodings \"\"\"\n",
    "        vocab = Counter()  # type: Counter\n",
    "        for token in {self.SOW, self.EOW}:\n",
    "            vocab[token] = int(2**63)\n",
    "        for idx, byte_pair_count in enumerate(self.byte_pair_counts(words)):\n",
    "            for byte_pair, count in byte_pair_count.items():\n",
    "                vocab[byte_pair] += count\n",
    "\n",
    "            if (idx + 1) % 10000 == 0:\n",
    "                self.trim_vocab(10 * self.bpe_vocab_size, vocab)\n",
    "\n",
    "        sorted_bpe_counts = sorted(vocab.items(), key=lambda p: -p[1])[:self.bpe_vocab_size]\n",
    "        return {bp: idx + self.word_vocab_size for idx, (bp, count) in enumerate(sorted_bpe_counts)}\n",
    "\n",
    "    def fit(self, text):\n",
    "        # type: (Encoder, Iterable[str]) -> None\n",
    "        \"\"\" Learn vocab from text. \"\"\"\n",
    "        _text = [l.lower().strip() for l in text]\n",
    "\n",
    "        # First, learn word vocab\n",
    "        self.word_vocab = self.learn_word_vocab(_text)\n",
    "\n",
    "        remaining_words = [word for word in toolz.concat(map(self.word_tokenizer, _text))\n",
    "                           if word not in self.word_vocab]\n",
    "        self.bpe_vocab = self.learn_bpe_vocab(remaining_words)\n",
    "\n",
    "        self.inverse_word_vocab = {idx: token for token, idx in self.word_vocab.items()}\n",
    "        self.inverse_bpe_vocab = {idx: token for token, idx in self.bpe_vocab.items()}\n",
    "\n",
    "    @staticmethod\n",
    "    def trim_vocab(n, vocab):\n",
    "        # type: (int, Dict[str, int]) -> None\n",
    "        \"\"\"  Deletes all pairs below 10 * vocab size to prevent memory problems \"\"\"\n",
    "        pair_counts = sorted(vocab.items(), key=lambda p: -p[1])\n",
    "        pairs_to_trim = [pair for pair, count in pair_counts[n:]]\n",
    "        for pair in pairs_to_trim:\n",
    "            del vocab[pair]\n",
    "\n",
    "    def subword_tokenize(self, word):\n",
    "        # type: (Encoder, str) -> List[str]\n",
    "        \"\"\" Tokenizes inside an unknown token using BPE \"\"\"\n",
    "        end_idx = min([len(word), self.ngram_max])\n",
    "        sw_tokens = [self.SOW]\n",
    "        start_idx = 0\n",
    "\n",
    "        while start_idx < len(word):\n",
    "            subword = word[start_idx:end_idx]\n",
    "            if subword in self.bpe_vocab:\n",
    "                sw_tokens.append(subword)\n",
    "                start_idx = end_idx\n",
    "                end_idx = min([len(word), start_idx + self.ngram_max])\n",
    "            elif len(subword) == 1:\n",
    "                sw_tokens.append(self.UNK)\n",
    "                start_idx = end_idx\n",
    "                end_idx = min([len(word), start_idx + self.ngram_max])\n",
    "            else:\n",
    "                end_idx -= 1\n",
    "\n",
    "        sw_tokens.append(self.EOW)\n",
    "        return sw_tokens\n",
    "\n",
    "    def tokenize(self, sentence):\n",
    "        # type: (Encoder, str) -> List[str]\n",
    "        \"\"\" Split a sentence into word and subword tokens \"\"\"\n",
    "        word_tokens = self.word_tokenizer(sentence.lower().strip())\n",
    "\n",
    "        tokens = []\n",
    "        for word_token in word_tokens:\n",
    "            if word_token in self.word_vocab:\n",
    "                tokens.append(word_token)\n",
    "            else:\n",
    "                tokens.extend(self.subword_tokenize(word_token))\n",
    "\n",
    "        return tokens\n",
    "    def transform(self, sentences, reverse=False, fixed_length=None):\n",
    "        # type: (Encoder, Iterable[str], bool, int) -> Iterable[List[int]]\n",
    "        \"\"\" Turns space separated tokens into vocab idxs \"\"\"\n",
    "        direction = -1 if reverse else 1\n",
    "        for sentence in self._progress_bar(sentences):\n",
    "            encoded = []\n",
    "            tokens = list(self.tokenize(sentence.lower().strip()))\n",
    "            for token in tokens:\n",
    "                if token in self.word_vocab:\n",
    "                    encoded.append(self.word_vocab[token])\n",
    "                elif token in self.bpe_vocab:\n",
    "                    encoded.append(self.bpe_vocab[token])\n",
    "                else:\n",
    "                    encoded.append(self.word_vocab[self.UNK])\n",
    "\n",
    "            if fixed_length is not None:\n",
    "                encoded = encoded[:fixed_length]\n",
    "                while len(encoded) < fixed_length:\n",
    "                    encoded.append(self.word_vocab[self.PAD])\n",
    "\n",
    "            yield encoded[::direction]"
   ]
  },
  {
   "cell_type": "code",
   "execution_count": null,
   "metadata": {},
   "outputs": [],
   "source": [
    "data = data.sample(frac=1)"
   ]
  },
  {
   "cell_type": "code",
   "execution_count": null,
   "metadata": {},
   "outputs": [],
   "source": [
    "data.head(2)"
   ]
  },
  {
   "cell_type": "code",
   "execution_count": null,
   "metadata": {},
   "outputs": [],
   "source": [
    "len(data.userId.unique()), len(data.content.unique())"
   ]
  },
  {
   "cell_type": "markdown",
   "metadata": {},
   "source": [
    "# Split data to train and test"
   ]
  },
  {
   "cell_type": "code",
   "execution_count": null,
   "metadata": {},
   "outputs": [],
   "source": [
    "train, test = train_test_split(data, test_size=0.2, random_state=42, shuffle=True)"
   ]
  },
  {
   "cell_type": "code",
   "execution_count": null,
   "metadata": {},
   "outputs": [],
   "source": [
    "# save the train and test file\n",
    "# again using the '\\t' separator to create tab-separated-values files\n",
    "train.to_csv(source_dir+ 'train.csv', index=False)\n",
    "test.to_csv(source_dir+'test.csv',index=False)"
   ]
  },
  {
   "cell_type": "code",
   "execution_count": 13,
   "metadata": {},
   "outputs": [
    {
     "name": "stdout",
     "output_type": "stream",
     "text": [
      "Lengths Train/Test: 49578 / 12395\n"
     ]
    }
   ],
   "source": [
    "# Load \n",
    "data_dir ='/home/abbey/abbey/dataset/authorship/movie/'\n",
    "train = pd.read_csv(data_dir + \"train.csv\")\n",
    "test = pd.read_csv(data_dir + \"test.csv\")\n",
    "print(\"Lengths Train/Test: {} / {}\".format(len(train),len(test)))"
   ]
  },
  {
   "cell_type": "code",
   "execution_count": 14,
   "metadata": {},
   "outputs": [],
   "source": [
    "train = train.sample(frac=1)"
   ]
  },
  {
   "cell_type": "code",
   "execution_count": 15,
   "metadata": {},
   "outputs": [
    {
     "data": {
      "text/html": [
       "<div>\n",
       "<style scoped>\n",
       "    .dataframe tbody tr th:only-of-type {\n",
       "        vertical-align: middle;\n",
       "    }\n",
       "\n",
       "    .dataframe tbody tr th {\n",
       "        vertical-align: top;\n",
       "    }\n",
       "\n",
       "    .dataframe thead th {\n",
       "        text-align: right;\n",
       "    }\n",
       "</style>\n",
       "<table border=\"1\" class=\"dataframe\">\n",
       "  <thead>\n",
       "    <tr style=\"text-align: right;\">\n",
       "      <th></th>\n",
       "      <th>reviewId</th>\n",
       "      <th>userId</th>\n",
       "      <th>content</th>\n",
       "    </tr>\n",
       "  </thead>\n",
       "  <tbody>\n",
       "    <tr>\n",
       "      <th>32538</th>\n",
       "      <td>504332</td>\n",
       "      <td>rogerrbert</td>\n",
       "      <td>The Christmas Tale  takes place somewhere in ...</td>\n",
       "    </tr>\n",
       "    <tr>\n",
       "      <th>18070</th>\n",
       "      <td>484345</td>\n",
       "      <td>theorobertson</td>\n",
       "      <td>It's a well made and constructed movie that en...</td>\n",
       "    </tr>\n",
       "  </tbody>\n",
       "</table>\n",
       "</div>"
      ],
      "text/plain": [
       "       reviewId         userId  \\\n",
       "32538    504332     rogerrbert   \n",
       "18070    484345  theorobertson   \n",
       "\n",
       "                                                 content  \n",
       "32538   The Christmas Tale  takes place somewhere in ...  \n",
       "18070  It's a well made and constructed movie that en...  "
      ]
     },
     "execution_count": 15,
     "metadata": {},
     "output_type": "execute_result"
    }
   ],
   "source": [
    "train.head(2)"
   ]
  },
  {
   "cell_type": "code",
   "execution_count": 16,
   "metadata": {},
   "outputs": [],
   "source": [
    "def fit_encoder(encoder,corpus):\n",
    "    start = time.time()\n",
    "    encoder.fit(corpus)\n",
    "    print(\"Encoder trained: \"+str(int(time.time() - start))+\"s\")"
   ]
  },
  {
   "cell_type": "code",
   "execution_count": 17,
   "metadata": {},
   "outputs": [],
   "source": [
    "list_sentences_train = train[\"content\"].fillna(\"__empty__\").values\n",
    "list_sentences_test = test[\"content\"].fillna(\"__empty__\").values"
   ]
  },
  {
   "cell_type": "code",
   "execution_count": 18,
   "metadata": {},
   "outputs": [
    {
     "name": "stdout",
     "output_type": "stream",
     "text": [
      "Encoder trained: 18s\n"
     ]
    }
   ],
   "source": [
    "vocabulary = 50000\n",
    "encoder = Encoder(vocabulary, ngram_max=10)\n",
    "corpus = list_sentences_train\n",
    "fit_encoder(encoder,corpus)"
   ]
  },
  {
   "cell_type": "code",
   "execution_count": 19,
   "metadata": {},
   "outputs": [],
   "source": [
    "list_tokenized_train = list(encoder.transform(list_sentences_train))\n",
    "list_tokenized_test = list(encoder.transform(list_sentences_test))"
   ]
  },
  {
   "cell_type": "code",
   "execution_count": 20,
   "metadata": {},
   "outputs": [
    {
     "name": "stdout",
     "output_type": "stream",
     "text": [
      "49578\n"
     ]
    }
   ],
   "source": [
    "print(len(list_tokenized_train))"
   ]
  },
  {
   "cell_type": "code",
   "execution_count": 21,
   "metadata": {},
   "outputs": [],
   "source": [
    "cutout_percentile = 99.0"
   ]
  },
  {
   "cell_type": "code",
   "execution_count": 22,
   "metadata": {},
   "outputs": [],
   "source": [
    "sizes = [len(x) for x in list_tokenized_train + list_tokenized_test]\n",
    "max_size = int(np.percentile(sizes,cutout_percentile))"
   ]
  },
  {
   "cell_type": "code",
   "execution_count": 23,
   "metadata": {},
   "outputs": [
    {
     "name": "stdout",
     "output_type": "stream",
     "text": [
      "1161\n"
     ]
    }
   ],
   "source": [
    "print(max_size)"
   ]
  },
  {
   "cell_type": "code",
   "execution_count": 24,
   "metadata": {},
   "outputs": [
    {
     "data": {
      "text/plain": [
       "False"
      ]
     },
     "execution_count": 24,
     "metadata": {},
     "output_type": "execute_result"
    }
   ],
   "source": [
    "len(list_tokenized_test)==0"
   ]
  },
  {
   "cell_type": "code",
   "execution_count": 25,
   "metadata": {},
   "outputs": [
    {
     "name": "stdout",
     "output_type": "stream",
     "text": [
      "[40000, 49922, 42279, 40351, 40001, 435, 17, 1878, 22, 1268, 5956, 21, 11, 7309, 5, 2673, 23, 35866, 22, 8484, 10540, 21, 34, 26, 46, 60, 1081, 29, 10235, 7, 41, 10920, 3973, 22, 1645, 369, 21, 3, 63, 944, 11, 2, 71, 7, 104, 35866, 1185, 53, 273, 74, 59, 4834, 63, 52, 11, 164, 9, 101, 56, 12, 4, 4, 4, 40000, 9842, 271, 40001, 3, 670, 15, 443, 74, 353, 31, 4144, 369, 19, 8, 245, 441, 9, 383, 18, 1927, 382, 17, 19, 124, 8, 30, 77, 280, 9, 141, 56, 40000, 49922, 42279, 40351, 40001, 2008, 432, 757, 1643, 70, 15038, 18, 1255, 127, 1158, 80, 11, 1901, 4, 2, 307, 31, 4144, 74, 1645, 369, 11, 725, 723, 9, 39, 415, 29, 2, 2862, 625, 7216, 3, 69, 9, 39, 639, 19, 215, 8, 30, 89, 12, 25, 17, 37, 1544, 114, 2321, 7, 7216, 33, 4102, 4, 1790, 8, 30, 47, 1150, 9, 39, 233, 1741, 2333, 68, 215, 8, 30, 5, 20776, 431, 73, 5, 3672, 54, 162, 68, 567, 816, 7, 63, 595, 46, 127, 2350, 9, 7216, 74, 66, 12, 120, 12, 8, 13, 11, 3902, 6705, 4, 38, 76, 60, 121, 1179, 311, 198, 40000, 49922, 42279, 40351, 40001, 123, 1633, 117, 3845, 74, 12, 648, 117, 96, 1042, 9, 85, 157, 9, 2, 131, 3, 2, 119, 8, 13, 33, 3813, 3, 2, 597, 5759, 3, 12, 46, 81, 848, 3, 12, 8, 13, 881, 74, 12, 189, 37, 658, 147, 35866, 172, 449, 50, 2, 109, 196, 2861, 257, 11, 18923, 73, 1418, 1040, 311, 38, 2, 131, 74, 19, 67, 176, 82, 3034, 40, 155, 2, 658, 14, 641, 53, 9, 12, 11, 5, 17836, 15, 5471, 7, 2, 4591, 488, 108, 2075, 216, 7, 545, 595, 4, 548, 29, 5, 477, 484, 153, 369, 120, 216, 316, 115, 3, 12, 304, 254, 183, 2, 9876, 342, 609, 7, 1731, 14, 12, 11, 4, 47, 11, 32, 177, 7, 18, 28, 58, 5323, 117, 3, 38, 2, 416, 35866, 11, 5, 142, 250, 55, 41, 10920, 74, 41, 96, 4737, 906, 10, 3, 1866, 1253, 50, 35866, 11, 155, 5, 142, 657, 25, 2, 96, 4737, 2070, 565, 2, 174, 671, 68, 67, 361, 1718, 14, 68, 81, 3, 19, 215, 8, 30, 141, 50, 4, 47, 1475, 301, 7, 570, 161, 38, 2, 131, 3, 361, 365, 11, 8516, 3, 9535, 5038, 11, 3874, 7, 3, 361, 172, 5, 6039, 157, 47, 365, 74, 14, 8, 13, 56, 14, 4, 2357, 2, 28, 11, 1276, 74, 19, 8, 179, 103, 259, 3, 47, 8, 13, 81, 1237, 388, 54, 4409, 74, 18, 11, 176, 881, 530, 9, 1239, 157, 4, 2, 197, 397, 8, 30, 565, 92, 25, 111, 208, 40, 253, 904, 14, 4, 40000, 49922, 42279, 40351, 40001, 11, 1097, 1731, 42, 416, 9, 2072, 74, 19, 2302, 254, 525, 7, 12, 3, 19, 124, 8, 30, 141, 127, 2370, 3831, 231, 48, 9, 116, 5, 130, 28, 25, 55, 19, 43, 9, 951, 57, 346, 74, 1353, 70, 239, 12, 12, 8, 13, 853, 23, 117, 9, 602, 5600, 15277, 291, 107, 109, 49, 18, 127, 10085, 4]\n",
      "[40000, 49932, 2155, 40001, 242, 39, 114, 633, 2127, 16708, 28, 4, 49, 2, 106, 7, 24, 143, 3, 12, 8, 13, 10, 15, 209, 15, 354, 6, 36, 7462, 7, 12, 23, 5, 315, 3, 25, 1089, 51, 7, 24, 87, 143, 22, 77, 55, 26, 8, 13, 38, 24, 1956, 3, 58, 27, 147, 6, 97, 40000, 49932, 2155, 40001, 20, 1088, 4313, 6, 18050, 21, 3, 12, 8, 13, 36, 82, 3610, 3, 394, 2720, 9, 2, 5793, 4, 16708, 8, 13, 532, 29, 3022, 6, 15559, 7, 1154, 3, 7, 223, 3, 25, 3282, 26, 8, 13, 263, 63, 623, 9, 39, 5, 26621, 1859, 28, 84, 9690, 218, 3, 134, 16708, 132, 8, 30, 552, 60, 47, 4, 66, 12, 94, 60, 5, 9690, 541, 20, 4139, 768, 12, 128, 39, 188, 23, 5, 4340, 569, 4, 25, 16708, 8, 13, 9996, 33, 2259, 86, 3019, 53, 145, 5027, 6, 5523, 1539, 7, 36, 60, 295, 112, 25, 10696, 200, 22472, 3, 17655, 3, 4617, 3, 538, 138, 581, 15, 2442, 10, 2, 3916, 7063, 7, 3439, 10, 2, 3108, 3, 26, 190, 8, 30, 48, 9, 116, 293, 1004, 4, 2, 88, 1209, 289, 3124, 10, 289, 1999, 16, 169, 16, 11, 3, 10, 202, 3, 5, 1667, 205, 4946, 691, 3, 392, 6, 1243, 4, 10, 13769, 145, 3022, 6, 7017, 6, 1140, 3600, 7, 4770, 22, 19, 4, 839, 4, 2, 16, 19749, 15, 2384, 3, 791, 16, 1449, 3, 613, 1449, 3, 1103, 295, 15, 354, 21, 3, 83, 8, 166, 289, 38, 33585, 9, 5, 1744, 2875, 4, 6, 106, 7, 44, 3, 16708, 132, 8, 30, 189, 213, 95, 820, 3, 1089, 4287, 555, 20, 5, 28, 49, 32608, 3, 10, 3962, 24, 871, 4, 18, 11, 204, 3, 23, 2, 88, 177, 3, 40000, 49932, 2155, 40001, 11, 5, 649, 609, 7, 143, 3, 108, 51, 7, 2, 1539, 6, 185, 260, 6, 2603, 1375, 6, 3, 7, 223, 3, 161, 7, 3094, 1472, 22, 19, 696, 2, 146, 108, 2, 233, 708, 136, 33, 103, 4677, 38, 31, 2, 169, 15, 122, 392, 301, 10, 34589, 6, 3081, 17, 289, 16, 2454, 16, 6, 2, 49, 21, 3, 33, 60, 95, 82, 36, 9, 814, 38, 4, 12, 8, 13, 36, 60, 2, 4690, 3, 58, 11, 10, 6, 7, 406, 1145, 16, 121, 16, 15, 7026, 3, 25, 14, 2, 899, 11, 2228, 6, 3, 18, 11, 1165, 23, 16708, 18, 70, 1149, 3, 12, 8, 13, 225, 5, 647, 13607, 1288, 9, 3505, 270, 2, 40000, 47002, 41035, 44866, 13, 40001, 6, 2816, 4, 738, 38, 90, 427, 15, 182, 3, 111, 768, 3, 6, 111, 37, 638, 1003, 9856, 7, 2, 96, 22, 3132, 3, 63, 16708, 226, 512, 23, 10, 2741, 705, 20, 661, 194, 11, 260, 115, 9, 5, 30, 20, 331, 346, 6, 5, 22454, 1389, 21, 3, 37237, 6, 4844, 33, 1461, 981, 5, 754, 1363, 23, 5, 1805, 9, 793, 3, 6, 37237, 518, 7, 2, 71, 7, 425, 2384, 3, 34, 20, 425, 2069, 6, 6703, 1550, 151, 9, 9320, 6, 378, 196, 15, 70, 10089, 3, 20, 2384, 10, 1807, 8707, 9, 5, 23046, 15, 2, 15, 13448, 15, 11572, 4315, 119, 4, 18, 11, 513, 5, 189, 118, 29, 612, 7, 2, 1445, 20, 100, 6538, 664, 15, 151, 15, 1782, 144, 6, 768, 3, 115, 549, 922, 6, 717, 23, 104, 5648, 6, 3244, 12, 78, 11, 4, 300, 16708, 231, 23, 2154, 10, 9543, 3600, 84, 708, 136, 769, 426, 6, 906, 270, 20, 427, 15, 182, 5491, 84, 55, 563, 6, 16669, 6, 1584, 2973, 12, 8, 13, 17, 1446, 17, 12, 67, 85, 23, 6050, 84, 55, 5, 1563, 745, 11, 38, 5, 1507, 6, 11, 10000, 6, 288, 10, 295, 15, 354, 6, 5, 3081, 3, 26, 8133, 10, 5, 1371, 7, 58, 36, 77, 644, 128, 2281, 20, 5778, 84, 5, 2684, 1516, 20, 425, 2069, 6, 37, 6821, 17, 2, 1197, 11, 818, 10, 962, 642, 15, 1231, 84, 9076, 1062, 240, 29, 42, 70, 9, 70, 7, 154, 133, 3, 51, 6, 51, 42, 2, 11078, 14, 33, 60, 7381, 4, 49, 2330, 2382, 54, 4265, 54, 3, 59, 1068, 3, 1445, 1413, 3, 16708, 8, 13, 40000, 49932, 2155, 40001, 12788, 17, 790, 90, 6, 111, 272, 15, 26805, 315, 4, 12, 8, 13, 72, 14445, 28, 15, 263, 29, 37, 3157, 2531, 84, 348, 42, 2, 198, 236, 9, 2, 5390, 6, 2, 6140, 8710, 5787, 23, 2, 136, 22, 212, 44, 415, 29, 2, 850, 7, 2, 609, 21, 44, 2585, 2, 272, 10, 2, 307, 3, 108, 100, 471, 15, 35, 144, 1679, 53, 82, 59, 23, 5059, 4, 9, 721, 12, 3589, 4386, 2, 257, 84, 12, 8, 13, 49, 2523, 364, 4, 11328, 3553, 15, 5551, 26198, 54, 6988, 1540, 7, 808, 3553, 7972, 4, 6, 3, 23, 117, 3, 12, 8, 13, 32, 7, 2, 106, 25374, 178, 107, 4]\n"
     ]
    }
   ],
   "source": [
    "maxT =  max(list_tokenized_train)\n",
    "print(maxT)\n",
    "maxTs =  max(list_tokenized_test)\n",
    "print(maxTs)"
   ]
  },
  {
   "cell_type": "code",
   "execution_count": 26,
   "metadata": {},
   "outputs": [
    {
     "name": "stdout",
     "output_type": "stream",
     "text": [
      "50000\n"
     ]
    }
   ],
   "source": [
    "maxT =  max( [max(x) for x in list_tokenized_train]) + 1\n",
    "print(maxT)"
   ]
  },
  {
   "cell_type": "code",
   "execution_count": 27,
   "metadata": {},
   "outputs": [],
   "source": [
    "max_features = max([max(x) for x in list_tokenized_train+list_tokenized_test])+1"
   ]
  },
  {
   "cell_type": "code",
   "execution_count": 28,
   "metadata": {},
   "outputs": [
    {
     "name": "stdout",
     "output_type": "stream",
     "text": [
      "Vocabulary: 50000, Max Entry Size: 1161\n"
     ]
    }
   ],
   "source": [
    "print(\"Vocabulary: {}, Max Entry Size: {}\".format(max_features,max_size))"
   ]
  },
  {
   "cell_type": "code",
   "execution_count": 29,
   "metadata": {},
   "outputs": [],
   "source": [
    "x_train = sequence.pad_sequences(list_tokenized_train, maxlen=max_size)\n",
    "x_test = sequence.pad_sequences(list_tokenized_test, maxlen=max_size)"
   ]
  },
  {
   "cell_type": "markdown",
   "metadata": {},
   "source": [
    "# Custom Callback"
   ]
  },
  {
   "cell_type": "code",
   "execution_count": 30,
   "metadata": {},
   "outputs": [],
   "source": [
    "class PlotModel(Callback):\n",
    "    def set_params_(self, model_type, checkpoint_path, dataset, \n",
    "                   batch_size, plot_per_batch,\n",
    "                   dictionary_size, max_review_length, \n",
    "                   best_model_monitor, early_stop_monitor):\n",
    "        self.path = checkpoint_path\n",
    "        self.model_type = model_type\n",
    "        self.dataset = dataset\n",
    "        self.batch_size = batch_size\n",
    "        self.dictionary_size = dictionary_size\n",
    "        self.max_review_length = max_review_length\n",
    "        self.best_model_monitor = best_model_monitor\n",
    "        self.early_stop_monitor = early_stop_monitor\n",
    "        self.plot_per_batch = plot_per_batch\n",
    "    \n",
    "    def get_monitor_ticks(self):\n",
    "        if self.best_model_monitor == \"val_acc\":\n",
    "            bm_ind = np.argmax(self.val_acc)\n",
    "        else:\n",
    "            bm_ind = np.argmin(self.val_losses)\n",
    "        \n",
    "        if self.early_stop_monitor == \"val_acc\":\n",
    "            es_ind = np.argmax(self.val_acc)\n",
    "        else:\n",
    "            es_ind = np.argmin(self.val_losses)\n",
    "        return [bm_ind, es_ind]\n",
    "    \n",
    "    def plot(self, save):\n",
    "        clear_output(wait=True)\n",
    "        fig = plt.figure()\n",
    "        plt.grid(True)\n",
    "        plt.plot(self.x, self.acc, '--', label=\"acc\")\n",
    "        plt.plot(self.x, self.val_acc, label=\"val_acc\")\n",
    "        plt.plot(self.x, self.losses, '--', label=\"loss\")\n",
    "        plt.plot(self.x, self.val_losses, label=\"val_loss\")\n",
    "        bm_ind, es_ind = self.get_monitor_ticks()\n",
    "        plt.axvline(x=self.x[bm_ind],alpha=0.6,color=\"green\", linestyle='--')\n",
    "        plt.axvline(x=self.x[es_ind],alpha=0.6,color=\"red\", linestyle='--')\n",
    "        title = \"{}: accuracy & loss for {} (length:{}, val acc/loss: {:.4f}/{:.4f})\"\n",
    "        title = title.format(self.model_type,self.dataset,self.max_review_length,max(self.val_acc),min(self.val_losses))\n",
    "        plt.title(title)\n",
    "        plt.legend(['acc: train', 'acc: validation','loss: train', 'loss: validation'], loc='upper left')\n",
    "        plt.show()\n",
    "        if save:\n",
    "            fig.savefig(self.path+\"-figure.png\")\n",
    "            \n",
    "    def on_train_begin(self, logs={}):\n",
    "        self.i = 1\n",
    "        self.x = [0]\n",
    "        self.acc = [0]\n",
    "        self.val_acc = [0]\n",
    "        self.losses = [1]\n",
    "        self.val_losses = [1]\n",
    "        \n",
    "        self.fig = plt.figure()\n",
    "        \n",
    "        self.logs = []\n",
    "\n",
    "    def on_epoch_end(self, epoch, logs={}):\n",
    "        if 'acc' in logs  and 'loss' in logs:\n",
    "            self.logs.append(logs)\n",
    "            self.x.append(self.i)\n",
    "            self.acc.append(logs.get('acc'))\n",
    "            self.losses.append(logs.get('loss'))\n",
    "            if \"val_acc\" in logs and \"val_loss\" in logs:\n",
    "                self.val_acc.append(logs.get('val_acc'))\n",
    "                self.val_losses.append(logs.get('val_loss'))\n",
    "            else:\n",
    "                self.val_acc.append(self.val_acc[len(self.val_acc)-1])\n",
    "                self.val_losses.append(self.val_losses[len(self.val_losses)-1])\n",
    "            self.i += 1\n",
    "            self.plot(False)\n",
    "        else:\n",
    "            keys = []\n",
    "            for k in ['acc', 'val_acc', 'loss', 'val_loss']:\n",
    "                if k not in logs:\n",
    "                    keys.append(k)\n",
    "            print((\"Missing parameters\",keys,logs))\n",
    "    \n",
    "    def on_batch_end(self, batch, logs={}):\n",
    "        if batch%self.plot_per_batch != 0:\n",
    "            return\n",
    "        else:\n",
    "            self.on_epoch_end(batch, logs)\n",
    "    \n",
    "    def on_train_end(self, epoch, logs={}):\n",
    "        self.plot(True)"
   ]
  },
  {
   "cell_type": "markdown",
   "metadata": {},
   "source": [
    "# Deep learning model \n",
    "  * LSTM with Byte-pair encoding"
   ]
  },
  {
   "cell_type": "code",
   "execution_count": 36,
   "metadata": {},
   "outputs": [],
   "source": [
    "num_of_classes = 60\n",
    "optimizer = 'adam'\n",
    "loss = 'categorical_crossentropy'\n",
    "embed_size = 128\n",
    "\n",
    "batch_size = 64\n",
    "epochs = 10\n",
    "es_patience = 5"
   ]
  },
  {
   "cell_type": "code",
   "execution_count": 32,
   "metadata": {},
   "outputs": [],
   "source": [
    "def get_lstm():\n",
    "    embed_size = 128\n",
    "    inp = Input(shape=(max_size, ))\n",
    "    x = Embedding(max_features, embed_size)(inp)\n",
    "    x = Bidirectional(LSTM(50, return_sequences=True))(x)\n",
    "    x = GlobalMaxPool1D()(x)\n",
    "    x = Dropout(0.1)(x)\n",
    "    x = Dense(50, activation=\"relu\")(x)\n",
    "    x = Dropout(0.1)(x)\n",
    "    x = Dense(num_of_classes, activation=\"sigmoid\")(x)\n",
    "    model = Model(inputs=inp, outputs=x)\n",
    "    model.compile(optimizer=optimizer, loss=loss, metrics=['accuracy'])  \n",
    "\n",
    "    return model"
   ]
  },
  {
   "cell_type": "code",
   "execution_count": 34,
   "metadata": {},
   "outputs": [
    {
     "name": "stdout",
     "output_type": "stream",
     "text": [
      "Model: \"functional_1\"\n",
      "_________________________________________________________________\n",
      "Layer (type)                 Output Shape              Param #   \n",
      "=================================================================\n",
      "input_1 (InputLayer)         [(None, 1161)]            0         \n",
      "_________________________________________________________________\n",
      "embedding (Embedding)        (None, 1161, 128)         6400000   \n",
      "_________________________________________________________________\n",
      "bidirectional (Bidirectional (None, 1161, 100)         71600     \n",
      "_________________________________________________________________\n",
      "global_max_pooling1d (Global (None, 100)               0         \n",
      "_________________________________________________________________\n",
      "dropout (Dropout)            (None, 100)               0         \n",
      "_________________________________________________________________\n",
      "dense (Dense)                (None, 50)                5050      \n",
      "_________________________________________________________________\n",
      "dropout_1 (Dropout)          (None, 50)                0         \n",
      "_________________________________________________________________\n",
      "dense_1 (Dense)              (None, 60)                3060      \n",
      "=================================================================\n",
      "Total params: 6,479,710\n",
      "Trainable params: 6,479,710\n",
      "Non-trainable params: 0\n",
      "_________________________________________________________________\n"
     ]
    }
   ],
   "source": [
    "model = get_lstm()\n",
    "model.summary()"
   ]
  },
  {
   "cell_type": "code",
   "execution_count": 35,
   "metadata": {},
   "outputs": [
    {
     "data": {
      "image/png": "[encoded data removed]",
      "text/plain": [
       "<IPython.core.display.Image object>"
      ]
     },
     "execution_count": 35,
     "metadata": {},
     "output_type": "execute_result"
    }
   ],
   "source": [
    "tf.keras.utils.plot_model(model)"
   ]
  },
  {
   "cell_type": "code",
   "execution_count": 37,
   "metadata": {},
   "outputs": [],
   "source": [
    "model_type = \"lstm\"\n",
    "file_path=model_type+\".weights_base.best.hdf5\""
   ]
  },
  {
   "cell_type": "code",
   "execution_count": 38,
   "metadata": {},
   "outputs": [
    {
     "data": {
      "text/plain": [
       "38"
      ]
     },
     "execution_count": 38,
     "metadata": {},
     "output_type": "execute_result"
    }
   ],
   "source": [
    "number_of_plots = 200\n",
    "number_of_batches_per_epoch = len(x_train)/batch_size\n",
    "plot_per_batch = int(number_of_batches_per_epoch/(number_of_plots/epochs))\n",
    "if plot_per_batch == 0:\n",
    "    plot_per_batch = 1\n",
    "plot_per_batch"
   ]
  },
  {
   "cell_type": "code",
   "execution_count": null,
   "metadata": {},
   "outputs": [],
   "source": [
    "plotter = PlotModel()\n",
    "plotter.set_params_(model_type, model_type+\"-checkpoint-path\", \"bpe-{}k\".format(int(vocabulary/1000)), \n",
    "                   batch_size, plot_per_batch,\n",
    "                   vocabulary, max_size, \n",
    "                   'val_loss', 'val_loss')\n",
    "\n",
    "checkpoint = ModelCheckpoint(file_path, monitor='val_loss', verbose=0, save_best_only=True, mode='min')\n",
    "earlyStopping = EarlyStopping(monitor=\"val_loss\", mode=\"max\", patience=es_patience)\n",
    "callbacks_list = [plotter, checkpoint, earlyStopping]"
   ]
  }
 ],
 "metadata": {
  "kernelspec": {
   "display_name": "Python 3 (ipykernel)",
   "language": "python",
   "name": "python3"
  },
  "language_info": {
   "codemirror_mode": {
    "name": "ipython",
    "version": 3
   },
   "file_extension": ".py",
   "mimetype": "text/x-python",
   "name": "python",
   "nbconvert_exporter": "python",
   "pygments_lexer": "ipython3",
   "version": "3.8.12"
  }
 },
 "nbformat": 4,
 "nbformat_minor": 4
}
